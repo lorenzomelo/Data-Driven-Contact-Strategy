{
 "cells": [
  {
   "cell_type": "code",
   "execution_count": 11,
   "id": "6177c149",
   "metadata": {},
   "outputs": [],
   "source": [
    "import pandas as pd\n",
    "import numpy as np"
   ]
  },
  {
   "cell_type": "code",
   "execution_count": 12,
   "id": "b8d256bb",
   "metadata": {},
   "outputs": [
    {
     "name": "stdout",
     "output_type": "stream",
     "text": [
      "Collecting openpyxl\n",
      "  Using cached openpyxl-3.0.9-py2.py3-none-any.whl (242 kB)\n",
      "Collecting et-xmlfile\n",
      "  Using cached et_xmlfile-1.1.0-py3-none-any.whl (4.7 kB)\n",
      "Installing collected packages: et-xmlfile, openpyxl\n",
      "Successfully installed et-xmlfile-1.1.0 openpyxl-3.0.9\n",
      "Note: you may need to restart the kernel to use updated packages.\n"
     ]
    }
   ],
   "source": [
    "pip install openpyxl"
   ]
  },
  {
   "cell_type": "code",
   "execution_count": 13,
   "id": "1cd683cc",
   "metadata": {},
   "outputs": [],
   "source": [
    "import openpyxl"
   ]
  },
  {
   "cell_type": "code",
   "execution_count": 54,
   "id": "61a590c4",
   "metadata": {},
   "outputs": [],
   "source": [
    "dataset = pd.read_csv(\"DLT_AI_and_DATA_CUSTOMER_BASE_EN_PROVA.csv\", sep=\";\")\n",
    "dataset = pd.DataFrame(dataset)"
   ]
  },
  {
   "cell_type": "code",
   "execution_count": 95,
   "id": "6694119b",
   "metadata": {},
   "outputs": [
    {
     "data": {
      "text/plain": [
       "60578"
      ]
     },
     "execution_count": 95,
     "metadata": {},
     "output_type": "execute_result"
    }
   ],
   "source": [
    "len(dataset)"
   ]
  },
  {
   "cell_type": "code",
   "execution_count": 55,
   "id": "b7542dc0",
   "metadata": {},
   "outputs": [
    {
     "data": {
      "text/html": [
       "<div>\n",
       "<style scoped>\n",
       "    .dataframe tbody tr th:only-of-type {\n",
       "        vertical-align: middle;\n",
       "    }\n",
       "\n",
       "    .dataframe tbody tr th {\n",
       "        vertical-align: top;\n",
       "    }\n",
       "\n",
       "    .dataframe thead th {\n",
       "        text-align: right;\n",
       "    }\n",
       "</style>\n",
       "<table border=\"1\" class=\"dataframe\">\n",
       "  <thead>\n",
       "    <tr style=\"text-align: right;\">\n",
       "      <th></th>\n",
       "      <th>ID</th>\n",
       "      <th>GENRE</th>\n",
       "      <th>CONSENSUS_PRIVACY</th>\n",
       "      <th>LOYALTY_PROGRAM</th>\n",
       "      <th>LAST_MONTH_DESK_VISITS</th>\n",
       "      <th>LAST_3MONTHS_DESK_VISITS</th>\n",
       "      <th>LAST_YEAR_DESK_VISITS</th>\n",
       "      <th>LAST_MONTH_CC_REQUESTS</th>\n",
       "      <th>LAST_3MONTHS_CC_REQUESTS</th>\n",
       "      <th>LAST_YEAR_CC_REQUESTS</th>\n",
       "      <th>...</th>\n",
       "      <th>N_DEM_SOLUTION</th>\n",
       "      <th>N_SMS_SOLUTION</th>\n",
       "      <th>N_TLS_SOLUTION</th>\n",
       "      <th>YEAR_BIRTH</th>\n",
       "      <th>BEHAVIOUR_SCORE</th>\n",
       "      <th>CLC_STATUS</th>\n",
       "      <th>ACQUISITION_CHANNEL</th>\n",
       "      <th>LAST_GAS_PRODUCT</th>\n",
       "      <th>LAST_POWER_PRODUCT</th>\n",
       "      <th>LAST_CAMPAIGN_TIPOLOGY</th>\n",
       "    </tr>\n",
       "  </thead>\n",
       "  <tbody>\n",
       "    <tr>\n",
       "      <th>0</th>\n",
       "      <td>10</td>\n",
       "      <td>M</td>\n",
       "      <td>YES</td>\n",
       "      <td>1</td>\n",
       "      <td>0</td>\n",
       "      <td>0</td>\n",
       "      <td>0</td>\n",
       "      <td>0</td>\n",
       "      <td>0</td>\n",
       "      <td>10</td>\n",
       "      <td>...</td>\n",
       "      <td>0</td>\n",
       "      <td>0</td>\n",
       "      <td>0</td>\n",
       "      <td>1959</td>\n",
       "      <td>GOOD PAYER</td>\n",
       "      <td>4-Risk churn</td>\n",
       "      <td>CC</td>\n",
       "      <td>Traditional</td>\n",
       "      <td>NaN</td>\n",
       "      <td>Cross-Selling</td>\n",
       "    </tr>\n",
       "    <tr>\n",
       "      <th>1</th>\n",
       "      <td>20</td>\n",
       "      <td>F</td>\n",
       "      <td>NO</td>\n",
       "      <td>1</td>\n",
       "      <td>0</td>\n",
       "      <td>0</td>\n",
       "      <td>0</td>\n",
       "      <td>0</td>\n",
       "      <td>0</td>\n",
       "      <td>0</td>\n",
       "      <td>...</td>\n",
       "      <td>0</td>\n",
       "      <td>0</td>\n",
       "      <td>0</td>\n",
       "      <td>1962</td>\n",
       "      <td>GOOD PAYER</td>\n",
       "      <td>3-Customer Loyalty</td>\n",
       "      <td>CC</td>\n",
       "      <td>Traditional</td>\n",
       "      <td>NaN</td>\n",
       "      <td>Communication</td>\n",
       "    </tr>\n",
       "    <tr>\n",
       "      <th>2</th>\n",
       "      <td>22</td>\n",
       "      <td>F</td>\n",
       "      <td>YES</td>\n",
       "      <td>0</td>\n",
       "      <td>0</td>\n",
       "      <td>0</td>\n",
       "      <td>0</td>\n",
       "      <td>0</td>\n",
       "      <td>0</td>\n",
       "      <td>0</td>\n",
       "      <td>...</td>\n",
       "      <td>0</td>\n",
       "      <td>0</td>\n",
       "      <td>0</td>\n",
       "      <td>1960</td>\n",
       "      <td>LATECOMER</td>\n",
       "      <td>2-Customer</td>\n",
       "      <td>CC</td>\n",
       "      <td>Traditional</td>\n",
       "      <td>NaN</td>\n",
       "      <td>Cross-Selling</td>\n",
       "    </tr>\n",
       "    <tr>\n",
       "      <th>3</th>\n",
       "      <td>26</td>\n",
       "      <td>M</td>\n",
       "      <td>YES</td>\n",
       "      <td>1</td>\n",
       "      <td>0</td>\n",
       "      <td>0</td>\n",
       "      <td>0</td>\n",
       "      <td>0</td>\n",
       "      <td>0</td>\n",
       "      <td>0</td>\n",
       "      <td>...</td>\n",
       "      <td>0</td>\n",
       "      <td>0</td>\n",
       "      <td>0</td>\n",
       "      <td>1924</td>\n",
       "      <td>GOOD PAYER</td>\n",
       "      <td>2-Customer</td>\n",
       "      <td>CC</td>\n",
       "      <td>Traditional</td>\n",
       "      <td>NaN</td>\n",
       "      <td>Cross-Selling</td>\n",
       "    </tr>\n",
       "    <tr>\n",
       "      <th>4</th>\n",
       "      <td>32</td>\n",
       "      <td>F</td>\n",
       "      <td>YES</td>\n",
       "      <td>0</td>\n",
       "      <td>0</td>\n",
       "      <td>0</td>\n",
       "      <td>0</td>\n",
       "      <td>0</td>\n",
       "      <td>0</td>\n",
       "      <td>1</td>\n",
       "      <td>...</td>\n",
       "      <td>0</td>\n",
       "      <td>0</td>\n",
       "      <td>0</td>\n",
       "      <td>1967</td>\n",
       "      <td>GOOD PAYER</td>\n",
       "      <td>2-Customer</td>\n",
       "      <td>CC</td>\n",
       "      <td>Traditional</td>\n",
       "      <td>NaN</td>\n",
       "      <td>Cross-Selling</td>\n",
       "    </tr>\n",
       "    <tr>\n",
       "      <th>5</th>\n",
       "      <td>34</td>\n",
       "      <td>M</td>\n",
       "      <td>YES</td>\n",
       "      <td>0</td>\n",
       "      <td>0</td>\n",
       "      <td>0</td>\n",
       "      <td>0</td>\n",
       "      <td>0</td>\n",
       "      <td>0</td>\n",
       "      <td>0</td>\n",
       "      <td>...</td>\n",
       "      <td>0</td>\n",
       "      <td>1</td>\n",
       "      <td>0</td>\n",
       "      <td>1966</td>\n",
       "      <td>GOOD PAYER</td>\n",
       "      <td>2-Customer</td>\n",
       "      <td>CC</td>\n",
       "      <td>Traditional</td>\n",
       "      <td>NaN</td>\n",
       "      <td>Cross-Selling</td>\n",
       "    </tr>\n",
       "    <tr>\n",
       "      <th>6</th>\n",
       "      <td>40</td>\n",
       "      <td>M</td>\n",
       "      <td>YES</td>\n",
       "      <td>0</td>\n",
       "      <td>0</td>\n",
       "      <td>0</td>\n",
       "      <td>0</td>\n",
       "      <td>0</td>\n",
       "      <td>0</td>\n",
       "      <td>0</td>\n",
       "      <td>...</td>\n",
       "      <td>0</td>\n",
       "      <td>0</td>\n",
       "      <td>0</td>\n",
       "      <td>1948</td>\n",
       "      <td>GOOD PAYER</td>\n",
       "      <td>2-Customer</td>\n",
       "      <td>CC</td>\n",
       "      <td>Traditional</td>\n",
       "      <td>NaN</td>\n",
       "      <td>Cross-Selling</td>\n",
       "    </tr>\n",
       "    <tr>\n",
       "      <th>7</th>\n",
       "      <td>42</td>\n",
       "      <td>M</td>\n",
       "      <td>YES</td>\n",
       "      <td>0</td>\n",
       "      <td>0</td>\n",
       "      <td>0</td>\n",
       "      <td>0</td>\n",
       "      <td>0</td>\n",
       "      <td>0</td>\n",
       "      <td>0</td>\n",
       "      <td>...</td>\n",
       "      <td>0</td>\n",
       "      <td>0</td>\n",
       "      <td>0</td>\n",
       "      <td>1969</td>\n",
       "      <td>BAD PAYER</td>\n",
       "      <td>2-Customer</td>\n",
       "      <td>CC</td>\n",
       "      <td>Traditional</td>\n",
       "      <td>NaN</td>\n",
       "      <td>Cross-Selling</td>\n",
       "    </tr>\n",
       "    <tr>\n",
       "      <th>8</th>\n",
       "      <td>47</td>\n",
       "      <td>M</td>\n",
       "      <td>YES</td>\n",
       "      <td>0</td>\n",
       "      <td>0</td>\n",
       "      <td>0</td>\n",
       "      <td>0</td>\n",
       "      <td>0</td>\n",
       "      <td>0</td>\n",
       "      <td>0</td>\n",
       "      <td>...</td>\n",
       "      <td>0</td>\n",
       "      <td>0</td>\n",
       "      <td>0</td>\n",
       "      <td>1967</td>\n",
       "      <td>GOOD PAYER</td>\n",
       "      <td>2-Customer</td>\n",
       "      <td>CC</td>\n",
       "      <td>Traditional</td>\n",
       "      <td>NaN</td>\n",
       "      <td>Cross-Selling</td>\n",
       "    </tr>\n",
       "    <tr>\n",
       "      <th>9</th>\n",
       "      <td>70</td>\n",
       "      <td>M</td>\n",
       "      <td>YES</td>\n",
       "      <td>1</td>\n",
       "      <td>0</td>\n",
       "      <td>0</td>\n",
       "      <td>0</td>\n",
       "      <td>0</td>\n",
       "      <td>0</td>\n",
       "      <td>0</td>\n",
       "      <td>...</td>\n",
       "      <td>0</td>\n",
       "      <td>0</td>\n",
       "      <td>0</td>\n",
       "      <td>1950</td>\n",
       "      <td>LATECOMER</td>\n",
       "      <td>2-Customer</td>\n",
       "      <td>CC</td>\n",
       "      <td>Traditional</td>\n",
       "      <td>NaN</td>\n",
       "      <td>Cross-Selling</td>\n",
       "    </tr>\n",
       "  </tbody>\n",
       "</table>\n",
       "<p>10 rows × 64 columns</p>\n",
       "</div>"
      ],
      "text/plain": [
       "   ID GENRE CONSENSUS_PRIVACY  LOYALTY_PROGRAM  LAST_MONTH_DESK_VISITS  \\\n",
       "0  10     M               YES                1                       0   \n",
       "1  20     F                NO                1                       0   \n",
       "2  22     F               YES                0                       0   \n",
       "3  26     M               YES                1                       0   \n",
       "4  32     F               YES                0                       0   \n",
       "5  34     M               YES                0                       0   \n",
       "6  40     M               YES                0                       0   \n",
       "7  42     M               YES                0                       0   \n",
       "8  47     M               YES                0                       0   \n",
       "9  70     M               YES                1                       0   \n",
       "\n",
       "   LAST_3MONTHS_DESK_VISITS  LAST_YEAR_DESK_VISITS  LAST_MONTH_CC_REQUESTS  \\\n",
       "0                         0                      0                       0   \n",
       "1                         0                      0                       0   \n",
       "2                         0                      0                       0   \n",
       "3                         0                      0                       0   \n",
       "4                         0                      0                       0   \n",
       "5                         0                      0                       0   \n",
       "6                         0                      0                       0   \n",
       "7                         0                      0                       0   \n",
       "8                         0                      0                       0   \n",
       "9                         0                      0                       0   \n",
       "\n",
       "   LAST_3MONTHS_CC_REQUESTS  LAST_YEAR_CC_REQUESTS  ... N_DEM_SOLUTION  \\\n",
       "0                         0                     10  ...              0   \n",
       "1                         0                      0  ...              0   \n",
       "2                         0                      0  ...              0   \n",
       "3                         0                      0  ...              0   \n",
       "4                         0                      1  ...              0   \n",
       "5                         0                      0  ...              0   \n",
       "6                         0                      0  ...              0   \n",
       "7                         0                      0  ...              0   \n",
       "8                         0                      0  ...              0   \n",
       "9                         0                      0  ...              0   \n",
       "\n",
       "  N_SMS_SOLUTION  N_TLS_SOLUTION YEAR_BIRTH  BEHAVIOUR_SCORE  \\\n",
       "0              0               0       1959       GOOD PAYER   \n",
       "1              0               0       1962       GOOD PAYER   \n",
       "2              0               0       1960        LATECOMER   \n",
       "3              0               0       1924       GOOD PAYER   \n",
       "4              0               0       1967       GOOD PAYER   \n",
       "5              1               0       1966       GOOD PAYER   \n",
       "6              0               0       1948       GOOD PAYER   \n",
       "7              0               0       1969        BAD PAYER   \n",
       "8              0               0       1967       GOOD PAYER   \n",
       "9              0               0       1950        LATECOMER   \n",
       "\n",
       "           CLC_STATUS  ACQUISITION_CHANNEL  LAST_GAS_PRODUCT  \\\n",
       "0        4-Risk churn                   CC       Traditional   \n",
       "1  3-Customer Loyalty                   CC       Traditional   \n",
       "2          2-Customer                   CC       Traditional   \n",
       "3          2-Customer                   CC       Traditional   \n",
       "4          2-Customer                   CC       Traditional   \n",
       "5          2-Customer                   CC       Traditional   \n",
       "6          2-Customer                   CC       Traditional   \n",
       "7          2-Customer                   CC       Traditional   \n",
       "8          2-Customer                   CC       Traditional   \n",
       "9          2-Customer                   CC       Traditional   \n",
       "\n",
       "   LAST_POWER_PRODUCT  LAST_CAMPAIGN_TIPOLOGY  \n",
       "0                 NaN           Cross-Selling  \n",
       "1                 NaN           Communication  \n",
       "2                 NaN           Cross-Selling  \n",
       "3                 NaN           Cross-Selling  \n",
       "4                 NaN           Cross-Selling  \n",
       "5                 NaN           Cross-Selling  \n",
       "6                 NaN           Cross-Selling  \n",
       "7                 NaN           Cross-Selling  \n",
       "8                 NaN           Cross-Selling  \n",
       "9                 NaN           Cross-Selling  \n",
       "\n",
       "[10 rows x 64 columns]"
      ]
     },
     "execution_count": 55,
     "metadata": {},
     "output_type": "execute_result"
    }
   ],
   "source": [
    "dataset.head(10)"
   ]
  },
  {
   "cell_type": "code",
   "execution_count": 56,
   "id": "f4dc1a35",
   "metadata": {},
   "outputs": [
    {
     "data": {
      "text/plain": [
       "{'DUAL', 'GAS', 'POWER'}"
      ]
     },
     "execution_count": 56,
     "metadata": {},
     "output_type": "execute_result"
    }
   ],
   "source": [
    "set(dataset[\"COMMODITY\"])"
   ]
  },
  {
   "cell_type": "code",
   "execution_count": 57,
   "id": "fd0eaafd",
   "metadata": {},
   "outputs": [
    {
     "data": {
      "text/plain": [
       "{0, 1}"
      ]
     },
     "execution_count": 57,
     "metadata": {},
     "output_type": "execute_result"
    }
   ],
   "source": [
    "set(dataset[\"SOLUTIONS\"])"
   ]
  },
  {
   "cell_type": "code",
   "execution_count": 58,
   "id": "963efd6b",
   "metadata": {},
   "outputs": [
    {
     "data": {
      "text/plain": [
       "{'NO', 'YES', nan}"
      ]
     },
     "execution_count": 58,
     "metadata": {},
     "output_type": "execute_result"
    }
   ],
   "source": [
    "set(dataset[\"CONSENSUS_PRIVACY\"])"
   ]
  },
  {
   "cell_type": "markdown",
   "id": "14f03f00",
   "metadata": {},
   "source": [
    "### General cleaning"
   ]
  },
  {
   "cell_type": "markdown",
   "id": "728429d1",
   "metadata": {},
   "source": [
    "- togliamo i \"nan\" e \"NO\" dal dal dataset[\"CONSENSUS_PRIVACY\"]\n",
    "- togliere risk of being churned or outbound\n",
    "- CLC_STATUS = clc --> customer life cycle"
   ]
  },
  {
   "cell_type": "code",
   "execution_count": 59,
   "id": "363aa7f6",
   "metadata": {},
   "outputs": [
    {
     "data": {
      "text/plain": [
       "2"
      ]
     },
     "execution_count": 59,
     "metadata": {},
     "output_type": "execute_result"
    }
   ],
   "source": [
    "dataset[\"CONSENSUS_PRIVACY\"].isnull().sum()"
   ]
  },
  {
   "cell_type": "code",
   "execution_count": 61,
   "id": "70928da5",
   "metadata": {},
   "outputs": [
    {
     "data": {
      "text/plain": [
       "0"
      ]
     },
     "execution_count": 61,
     "metadata": {},
     "output_type": "execute_result"
    }
   ],
   "source": [
    "dataset2 = dataset[dataset[\"CONSENSUS_PRIVACY\"].notnull()]\n",
    "dataset2[\"CONSENSUS_PRIVACY\"].isnull().sum()"
   ]
  },
  {
   "cell_type": "code",
   "execution_count": 65,
   "id": "9e2653eb",
   "metadata": {},
   "outputs": [],
   "source": [
    "consensus_privacy_yes = dataset2[\"CONSENSUS_PRIVACY\"].isin([\"YES\"])"
   ]
  },
  {
   "cell_type": "code",
   "execution_count": 66,
   "id": "caa59ddf",
   "metadata": {},
   "outputs": [],
   "source": [
    "dataset3 = dataset2[consensus_privacy_yes]"
   ]
  },
  {
   "cell_type": "code",
   "execution_count": 71,
   "id": "09e1e38e",
   "metadata": {},
   "outputs": [
    {
     "data": {
      "text/plain": [
       "{'YES'}"
      ]
     },
     "execution_count": 71,
     "metadata": {},
     "output_type": "execute_result"
    }
   ],
   "source": [
    "set(dataset3[\"CONSENSUS_PRIVACY\"])"
   ]
  },
  {
   "cell_type": "code",
   "execution_count": 86,
   "id": "de6eae91",
   "metadata": {},
   "outputs": [
    {
     "data": {
      "text/plain": [
       "43633"
      ]
     },
     "execution_count": 86,
     "metadata": {},
     "output_type": "execute_result"
    }
   ],
   "source": [
    "len(dataset3)"
   ]
  },
  {
   "cell_type": "code",
   "execution_count": 93,
   "id": "d2176ca1",
   "metadata": {},
   "outputs": [
    {
     "data": {
      "text/plain": [
       "YES    43633\n",
       "NO     16943\n",
       "Name: CONSENSUS_PRIVACY, dtype: int64"
      ]
     },
     "execution_count": 93,
     "metadata": {},
     "output_type": "execute_result"
    }
   ],
   "source": [
    "dataset2[\"CONSENSUS_PRIVACY\"].value_counts()"
   ]
  },
  {
   "cell_type": "code",
   "execution_count": 90,
   "id": "b1f01173",
   "metadata": {},
   "outputs": [
    {
     "data": {
      "text/plain": [
       "0    43534\n",
       "1       99\n",
       "Name: SOLUTIONS, dtype: int64"
      ]
     },
     "execution_count": 90,
     "metadata": {},
     "output_type": "execute_result"
    }
   ],
   "source": [
    "dataset3[\"SOLUTIONS\"].value_counts()"
   ]
  },
  {
   "cell_type": "code",
   "execution_count": 101,
   "id": "f0f9c668",
   "metadata": {},
   "outputs": [
    {
     "data": {
      "text/plain": [
       "{'1-New', '2-Customer', '3-Customer Loyalty', '4-Risk churn', '5-Leaving'}"
      ]
     },
     "execution_count": 101,
     "metadata": {},
     "output_type": "execute_result"
    }
   ],
   "source": [
    "set(dataset3[\"CLC_STATUS\"])"
   ]
  },
  {
   "cell_type": "code",
   "execution_count": 103,
   "id": "8f54b3f6",
   "metadata": {},
   "outputs": [
    {
     "data": {
      "text/plain": [
       "2-Customer            42117\n",
       "3-Customer Loyalty     1307\n",
       "5-Leaving               123\n",
       "4-Risk churn             66\n",
       "1-New                    20\n",
       "Name: CLC_STATUS, dtype: int64"
      ]
     },
     "execution_count": 103,
     "metadata": {},
     "output_type": "execute_result"
    }
   ],
   "source": [
    "dataset3[\"CLC_STATUS\"].value_counts()"
   ]
  },
  {
   "cell_type": "markdown",
   "id": "10d46894",
   "metadata": {},
   "source": [
    "## DATASET DIVISION"
   ]
  },
  {
   "cell_type": "markdown",
   "id": "43ff52ff",
   "metadata": {},
   "source": [
    "#### DATASET SOLUTION\n",
    "- drop the people with already a solution --> \"SOLUTIONS\" == 1"
   ]
  },
  {
   "cell_type": "code",
   "execution_count": 83,
   "id": "8db77f3a",
   "metadata": {},
   "outputs": [],
   "source": [
    "solution_dataset = dataset3.drop(dataset3[dataset3[\"SOLUTIONS\"] == 1].index)"
   ]
  },
  {
   "cell_type": "code",
   "execution_count": 84,
   "id": "af430a30",
   "metadata": {},
   "outputs": [
    {
     "data": {
      "text/plain": [
       "{0}"
      ]
     },
     "execution_count": 84,
     "metadata": {},
     "output_type": "execute_result"
    }
   ],
   "source": [
    "set(solution_dataset[\"SOLUTIONS\"])"
   ]
  },
  {
   "cell_type": "code",
   "execution_count": 85,
   "id": "838f6128",
   "metadata": {},
   "outputs": [
    {
     "data": {
      "text/plain": [
       "43534"
      ]
     },
     "execution_count": 85,
     "metadata": {},
     "output_type": "execute_result"
    }
   ],
   "source": [
    "len(solution_dataset)"
   ]
  },
  {
   "cell_type": "code",
   "execution_count": 96,
   "id": "5d335927",
   "metadata": {},
   "outputs": [],
   "source": [
    "solution_dataset.to_csv(\"SOLUTION_DATASET.csv\")"
   ]
  },
  {
   "cell_type": "markdown",
   "id": "0b5c94f3",
   "metadata": {},
   "source": [
    "### DATASET CROSS-SELLING "
   ]
  },
  {
   "cell_type": "code",
   "execution_count": 97,
   "id": "1ea838ea",
   "metadata": {},
   "outputs": [],
   "source": [
    "cross_selling_dataset = dataset3.drop(dataset3[dataset3[\"COMMODITY\"] == \"DUAL\"].index)"
   ]
  },
  {
   "cell_type": "code",
   "execution_count": 98,
   "id": "5ad3aad0",
   "metadata": {},
   "outputs": [
    {
     "data": {
      "text/plain": [
       "{'GAS', 'POWER'}"
      ]
     },
     "execution_count": 98,
     "metadata": {},
     "output_type": "execute_result"
    }
   ],
   "source": [
    "set(cross_selling_dataset[\"COMMODITY\"])"
   ]
  },
  {
   "cell_type": "code",
   "execution_count": 99,
   "id": "36fc2a01",
   "metadata": {},
   "outputs": [
    {
     "data": {
      "text/plain": [
       "43164"
      ]
     },
     "execution_count": 99,
     "metadata": {},
     "output_type": "execute_result"
    }
   ],
   "source": [
    "len(cross_selling_dataset)"
   ]
  },
  {
   "cell_type": "code",
   "execution_count": 100,
   "id": "34ea2ad4",
   "metadata": {},
   "outputs": [],
   "source": [
    "cross_selling_dataset.to_csv(\"CROSS_SELLING_DATASET.csv\") "
   ]
  }
 ],
 "metadata": {
  "kernelspec": {
   "display_name": "Python 3 (ipykernel)",
   "language": "python",
   "name": "python3"
  },
  "language_info": {
   "codemirror_mode": {
    "name": "ipython",
    "version": 3
   },
   "file_extension": ".py",
   "mimetype": "text/x-python",
   "name": "python",
   "nbconvert_exporter": "python",
   "pygments_lexer": "ipython3",
   "version": "3.8.12"
  }
 },
 "nbformat": 4,
 "nbformat_minor": 5
}
